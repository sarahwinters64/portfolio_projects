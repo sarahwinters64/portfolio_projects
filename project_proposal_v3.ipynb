{
 "cells": [
  {
   "cell_type": "markdown",
   "metadata": {},
   "source": [
    "# Portfolio Project\n",
    "\n",
    "*SOPHIA CARTER, MORGAN NIELSEN, MICHELLE WANG, SARAH WINTERS*"
   ]
  },
  {
   "cell_type": "markdown",
   "metadata": {},
   "source": [
    "Abstract:\n",
    "\n",
    "We examined a linkedin "
   ]
  }
 ],
 "metadata": {
  "language_info": {
   "name": "python"
  }
 },
 "nbformat": 4,
 "nbformat_minor": 2
}
