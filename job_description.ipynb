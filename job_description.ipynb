{
 "cells": [
  {
   "cell_type": "code",
   "execution_count": 1,
   "metadata": {},
   "outputs": [],
   "source": [
    "from sklearn.model_selection import train_test_split\n",
    "from sklearn.feature_extraction.text import CountVectorizer\n",
    "from sklearn.linear_model import LogisticRegression\n",
    "from sklearn.metrics import accuracy_score, classification_report\n",
    "\n",
    "#Counting how many times certain words appear  \n",
    "import pandas as pd\n",
    "from nltk.corpus import stopwords\n",
    "from nltk.tokenize import word_tokenize\n",
    "from collections import Counter\n",
    "\n",
    "# Download NLTK stopwords if not already downloaded\n",
    "import nltk\n",
    "# nltk.download('stopwords')\n",
    "# nltk.download('punkt')\n",
    "\n",
    "\n",
    "import pandas as pd\n",
    "from sklearn.model_selection import train_test_split\n",
    "from sklearn.feature_extraction.text import TfidfVectorizer\n",
    "from sklearn.linear_model import LinearRegression\n",
    "from sklearn.metrics import mean_absolute_error\n",
    "from sklearn.metrics import mean_squared_error"
   ]
  },
  {
   "cell_type": "code",
   "execution_count": 11,
   "metadata": {},
   "outputs": [],
   "source": [
    "job_postings_data = pd.read_csv('job_postings.csv') #this will be sarah's cleaned data\n",
    "job_postings_data = job_postings_data[job_postings_data[\"max_salary\"].notna()]\n",
    "stop_words = set(stopwords.words('english')) \n",
    "\n",
    "\n",
    "def get_top_words(description):\n",
    "    if pd.isna(description):  # Check if the description is NaN\n",
    "        return []\n",
    "    words = word_tokenize(description)\n",
    "    filtered_words = [word.lower() for word in words if word.lower() not in stop_words and word.isalpha()]\n",
    "    word_counts = Counter(filtered_words)\n",
    "    top_words = [word for word, _ in word_counts.most_common(3)]\n",
    "    return top_words\n",
    "# Add a new column to the DataFrame with the three most common words for each description\n",
    "job_postings_data['top_descrip_words'] = job_postings_data['description'].apply(get_top_words)\n",
    "#will be fixed to be cleaned data\n"
   ]
  },
  {
   "cell_type": "code",
   "execution_count": 15,
   "metadata": {},
   "outputs": [
    {
     "name": "stdout",
     "output_type": "stream",
     "text": [
      "Accuracy: 0.5810983397190294\n",
      "                  precision    recall  f1-score   support\n",
      "\n",
      "       Associate       0.56      0.18      0.28       126\n",
      "        Director       0.83      0.10      0.19        48\n",
      "     Entry level       0.61      0.52      0.56       215\n",
      "       Executive       1.00      0.17      0.29         6\n",
      "      Internship       0.00      0.00      0.00         7\n",
      "Mid-Senior level       0.57      0.82      0.67       381\n",
      "\n",
      "        accuracy                           0.58       783\n",
      "       macro avg       0.60      0.30      0.33       783\n",
      "    weighted avg       0.59      0.58      0.54       783\n",
      "\n"
     ]
    },
    {
     "name": "stderr",
     "output_type": "stream",
     "text": [
      "/home/asoph/.local/lib/python3.10/site-packages/sklearn/metrics/_classification.py:1344: UndefinedMetricWarning: Precision and F-score are ill-defined and being set to 0.0 in labels with no predicted samples. Use `zero_division` parameter to control this behavior.\n",
      "  _warn_prf(average, modifier, msg_start, len(result))\n",
      "/home/asoph/.local/lib/python3.10/site-packages/sklearn/metrics/_classification.py:1344: UndefinedMetricWarning: Precision and F-score are ill-defined and being set to 0.0 in labels with no predicted samples. Use `zero_division` parameter to control this behavior.\n",
      "  _warn_prf(average, modifier, msg_start, len(result))\n",
      "/home/asoph/.local/lib/python3.10/site-packages/sklearn/metrics/_classification.py:1344: UndefinedMetricWarning: Precision and F-score are ill-defined and being set to 0.0 in labels with no predicted samples. Use `zero_division` parameter to control this behavior.\n",
      "  _warn_prf(average, modifier, msg_start, len(result))\n"
     ]
    }
   ],
   "source": [
    "experience_df = job_postings_data[job_postings_data[\"formatted_experience_level\"].notna()]\n",
    "X = experience_df['top_descrip_words'].apply(lambda x: ' '.join(x)).values\n",
    "y = experience_df['formatted_experience_level'].values\n",
    "\n",
    "# Split the data into training and testing sets\n",
    "X_train, X_test, y_train, y_test = train_test_split(X, y, test_size=0.2, random_state=42)\n",
    "\n",
    "# Create a Bag of Words representation\n",
    "vectorizer = CountVectorizer()\n",
    "X_train_bow = vectorizer.fit_transform(X_train)\n",
    "X_test_bow = vectorizer.transform(X_test)\n",
    "\n",
    "# Train a logistic regression model\n",
    "model = LogisticRegression()\n",
    "model.fit(X_train_bow, y_train)\n",
    "\n",
    "# Make predictions on the test set\n",
    "y_pred = model.predict(X_test_bow)\n",
    "\n",
    "# Evaluate the model\n",
    "accuracy = accuracy_score(y_test, y_pred)\n",
    "print(f'Accuracy: {accuracy}')\n",
    "\n",
    "# Additional classification metrics\n",
    "print(classification_report(y_test, y_pred))\n"
   ]
  },
  {
   "cell_type": "code",
   "execution_count": 17,
   "metadata": {},
   "outputs": [
    {
     "name": "stdout",
     "output_type": "stream",
     "text": [
      "Mean Absolute Error: 85987.61763536496\n",
      "Mean Squared Error: 14890227612.487228\n"
     ]
    }
   ],
   "source": [
    "#use sarah's cleaning for this\n",
    "salary_df= job_postings_data[job_postings_data[\"max_salary\"].notna()]\n",
    "\n",
    "\n",
    "# Feature extraction using TF-Ijob_postings_data\n",
    "tfidf_vectorizer = TfidfVectorizer()\n",
    "X = tfidf_vectorizer.fit_transform(salary_df['top_descrip_words'].apply(lambda x: ' '.join(x)))\n",
    "y = salary_df['max_salary'].values\n",
    "\n",
    "# X = job_postings_data['top_descrip_words'].apply(lambda x: ' '.join(x)).values\n",
    "\n",
    "\n",
    "# Split the data into training and testing sets\n",
    "X_train, X_test, y_train, y_test = train_test_split(X, y, test_size=0.2, random_state=42)\n",
    "\n",
    "# Choose a model (linear regression in this case)\n",
    "model = LinearRegression()\n",
    "\n",
    "# Train the model\n",
    "model.fit(X_train, y_train)\n",
    "\n",
    "# Make predictions on the test set\n",
    "y_pred = model.predict(X_test)\n",
    "\n",
    "# Evaluate the model\n",
    "mae = mean_absolute_error(y_test, y_pred)\n",
    "print(f'Mean Absolute Error: {mae}')\n",
    "mse=mean_squared_error(y_test, y_pred)\n",
    "print(f'Mean Squared Error: {mse}')\n",
    "\n",
    "# accuracy = accuracy_score(y_test, y_pred)\n",
    "# print(f'Accuracy: {accuracy}')\n",
    "\n"
   ]
  }
 ],
 "metadata": {
  "kernelspec": {
   "display_name": "Python 3",
   "language": "python",
   "name": "python3"
  },
  "language_info": {
   "codemirror_mode": {
    "name": "ipython",
    "version": 3
   },
   "file_extension": ".py",
   "mimetype": "text/x-python",
   "name": "python",
   "nbconvert_exporter": "python",
   "pygments_lexer": "ipython3",
   "version": "3.10.12"
  }
 },
 "nbformat": 4,
 "nbformat_minor": 2
}
