{
 "cells": [
  {
   "cell_type": "code",
   "execution_count": 1,
   "metadata": {},
   "outputs": [],
   "source": [
    "import pandas as pd\n",
    "import numpy as np\n",
    "from sklearn.ensemble import RandomForestClassifier\n",
    "from sklearn.model_selection import train_test_split\n",
    "from sklearn.metrics import classification_report\n",
    "from sklearn.metrics import confusion_matrix\n",
    "from sklearn.model_selection import GridSearchCV"
   ]
  },
  {
   "cell_type": "code",
   "execution_count": 85,
   "metadata": {},
   "outputs": [],
   "source": [
    "job_postings_data = pd.read_csv('job_postings.csv')"
   ]
  },
  {
   "cell_type": "code",
   "execution_count": 86,
   "metadata": {},
   "outputs": [
    {
     "name": "stdout",
     "output_type": "stream",
     "text": [
      "job_id                           0\n",
      "company_id                     117\n",
      "title                            0\n",
      "description                      0\n",
      "max_salary                       0\n",
      "min_salary                       0\n",
      "pay_period                       0\n",
      "formatted_work_type              0\n",
      "location                         0\n",
      "applies                       1939\n",
      "original_listed_time             0\n",
      "remote_allowed                4624\n",
      "views                          647\n",
      "job_posting_url                  0\n",
      "application_url               2396\n",
      "application_type                 0\n",
      "expiry                           0\n",
      "closed_time                   5243\n",
      "formatted_experience_level    1610\n",
      "skills_desc                   5488\n",
      "listed_time                      0\n",
      "posting_domain                2784\n",
      "sponsored                        0\n",
      "work_type                        0\n",
      "currency                         0\n",
      "compensation_type                0\n",
      "dtype: int64\n"
     ]
    }
   ],
   "source": [
    "# look at the missing data\n",
    "missing_data = job_postings_data.isna().sum()\n",
    "# print(missing_data)\n",
    "job_postings_data = job_postings_data[job_postings_data['description'].notna()]\n",
    "\n",
    "# now drop the max, min salaries with NaN values\n",
    "job_postings_data = job_postings_data[job_postings_data['max_salary'].notna()]\n",
    "# before dropping the median salary, save a copy of the dataframe\n",
    "jobs_with_median = job_postings_data\n",
    "# drop the median salary for now-- just since there are so many NaN values\n",
    "job_postings_data = job_postings_data.drop('med_salary', axis=1)\n",
    "\n",
    "# now observe all the columns that still have missing data\n",
    "missing_data = job_postings_data.isna().sum()\n",
    "print(missing_data)\n",
    "\n"
   ]
  },
  {
   "cell_type": "markdown",
   "metadata": {},
   "source": [
    "**Predicting Entry Level Jobs based on Min and Max Salary**"
   ]
  },
  {
   "cell_type": "code",
   "execution_count": 68,
   "metadata": {},
   "outputs": [
    {
     "name": "stdout",
     "output_type": "stream",
     "text": [
      "RandomForestClassifier Classification: \n",
      "                   precision    recall  f1-score   support\n",
      "\n",
      "       Associate       0.31      0.21      0.25       126\n",
      "        Director       0.48      0.27      0.35        48\n",
      "     Entry level       0.61      0.55      0.58       215\n",
      "       Executive       0.00      0.00      0.00         6\n",
      "      Internship       0.50      0.29      0.36         7\n",
      "Mid-Senior level       0.64      0.78      0.70       381\n",
      "\n",
      "        accuracy                           0.59       783\n",
      "       macro avg       0.42      0.35      0.37       783\n",
      "    weighted avg       0.56      0.59      0.57       783\n",
      "\n"
     ]
    }
   ],
   "source": [
    "# create a df with just the salary\n",
    "job_postings_data = job_postings_data[job_postings_data['formatted_experience_level'].notna()]\n",
    "experience_level = job_postings_data[[\"max_salary\", \"min_salary\"]]\n",
    "\n",
    "# create our X and y\n",
    "X = experience_level\n",
    "y = job_postings_data[\"formatted_experience_level\"]\n",
    "\n",
    "# split the data\n",
    "X_train, X_test, y_train, y_test = train_test_split(X, y, test_size=0.2, random_state=42)\n",
    "forest_model = RandomForestClassifier()\n",
    "forest_model.fit(X_train, y_train)\n",
    "\n",
    "predictions = forest_model.predict(X_test)\n",
    "print(f\"RandomForestClassifier Classification: \\n {classification_report(y_test, predictions)}\")\n"
   ]
  },
  {
   "cell_type": "markdown",
   "metadata": {},
   "source": [
    "I got an error about the classification having multiple classes, so for now, since I mostly care about entry level, I'm going to do a one-hot encoding and just look at entry level"
   ]
  },
  {
   "cell_type": "code",
   "execution_count": 69,
   "metadata": {},
   "outputs": [
    {
     "name": "stdout",
     "output_type": "stream",
     "text": [
      "RandomForestClassifier Classification: \n",
      "               precision    recall  f1-score   support\n",
      "\n",
      "           0       0.83      0.89      0.86       568\n",
      "           1       0.64      0.51      0.57       215\n",
      "\n",
      "    accuracy                           0.79       783\n",
      "   macro avg       0.73      0.70      0.71       783\n",
      "weighted avg       0.78      0.79      0.78       783\n",
      "\n"
     ]
    }
   ],
   "source": [
    "one_hot_data = pd.get_dummies(job_postings_data, columns=['formatted_experience_level'], dtype=int)\n",
    "# print(one_hot_data.columns)\n",
    "# split the data\n",
    "X = one_hot_data[['min_salary', 'max_salary']]\n",
    "y = one_hot_data['formatted_experience_level_Entry level']\n",
    "X_train, X_test, y_train, y_test = train_test_split(X, y, test_size=0.2, random_state=42)\n",
    "forest_model = RandomForestClassifier()\n",
    "forest_model.fit(X_train, y_train)\n",
    "\n",
    "predictions = forest_model.predict(X_test)\n",
    "print(f\"RandomForestClassifier Classification: \\n {classification_report(y_test, predictions)}\")"
   ]
  },
  {
   "cell_type": "code",
   "execution_count": 70,
   "metadata": {},
   "outputs": [
    {
     "name": "stdout",
     "output_type": "stream",
     "text": [
      "Best Parameters: {'criterion': 'gini', 'max_depth': 8, 'n_estimators': 100}\n",
      "\n",
      "Best Score: 0.5516687067322682\n",
      "\n",
      "Confusion Matrix: \n",
      "[[520  48]\n",
      " [124  91]]\n"
     ]
    }
   ],
   "source": [
    "# now run a grid search with different parameters\n",
    "# \n",
    "param_grid = {\"n_estimators\": [100, 200],\n",
    "              \"max_depth\": [4,5,6,7,8],\n",
    "              \"criterion\": ['gini', 'entropy']}\n",
    "forest_grid = GridSearchCV(forest_model, param_grid, scoring='f1')\n",
    "# run the search\n",
    "forest_grid.fit(X_train, y_train)\n",
    "print(f\"Best Parameters: {forest_grid.best_params_}\\n\")\n",
    "print(f\"Best Score: {forest_grid.best_score_}\\n\")\n",
    "\n",
    "# predict the labels for the test set\n",
    "forest_grid_predicted = forest_grid.predict(X_test)\n",
    "# create the confusion matrix\n",
    "confusion = confusion_matrix(y_test, forest_grid_predicted)\n",
    "print(f\"Confusion Matrix: \\n{confusion}\")"
   ]
  },
  {
   "cell_type": "code",
   "execution_count": 95,
   "metadata": {},
   "outputs": [
    {
     "name": "stdout",
     "output_type": "stream",
     "text": [
      "Index(['job_id', 'company_id', 'title', 'description', 'max_salary',\n",
      "       'med_salary', 'min_salary', 'pay_period', 'formatted_work_type',\n",
      "       'location', 'applies', 'original_listed_time', 'remote_allowed',\n",
      "       'views', 'job_posting_url', 'application_url', 'application_type',\n",
      "       'expiry', 'closed_time', 'formatted_experience_level', 'skills_desc',\n",
      "       'listed_time', 'posting_domain', 'sponsored', 'work_type', 'currency',\n",
      "       'compensation_type'],\n",
      "      dtype='object')\n"
     ]
    }
   ],
   "source": [
    "print(jobs_with_median.columns)"
   ]
  },
  {
   "cell_type": "markdown",
   "metadata": {},
   "source": [
    "I started trying to figure out if having the median salary improved the predictions, but I'm pretty sure dropping the NaN values for both \"formatted_experience_level\" and \"med_salary\" gets rid of formatted_experience_level. I'll look more into this later."
   ]
  },
  {
   "cell_type": "code",
   "execution_count": 108,
   "metadata": {},
   "outputs": [],
   "source": [
    "# # now look at it with the median salary\n",
    "# jobs_with_median = jobs_with_median[jobs_with_median['formatted_experience_level'].notna()]\n",
    "# jobs_with_median = jobs_with_median[jobs_with_median['med_salary'].notna()]\n",
    "\n",
    "# one_hot_median = pd.get_dummies(jobs_with_median, columns=['formatted_experience_level'], dtype=int)\n",
    "# print(one_hot_median.columns)\n",
    "# # split the data\n",
    "# X = one_hot_median[['min_salary', 'max_salary', 'med_salary']]\n",
    "# y = one_hot_median['formatted_experience_level_Entry level']\n",
    "# X_train, X_test, y_train, y_test = train_test_split(X, y, test_size=0.2, random_state=42)\n",
    "# forest_model = RandomForestClassifier()\n",
    "# forest_model.fit(X_train, y_train)\n",
    "\n",
    "# predictions = forest_model.predict(X_test)\n",
    "# print(f\"RandomForestClassifier Classification: \\n {classification_report(y_test, predictions)}\")\n"
   ]
  },
  {
   "cell_type": "markdown",
   "metadata": {},
   "source": [
    "Now I want to see how well salary can predict the other experience levels that aren't entry-level  "
   ]
  },
  {
   "cell_type": "code",
   "execution_count": 11,
   "metadata": {},
   "outputs": [],
   "source": [
    "# take a few steps back with the data\n",
    "job_postings_data = pd.read_csv('job_postings.csv')\n",
    "missing_data = job_postings_data.isna().sum()\n",
    "# print(missing_data)\n",
    "job_postings_data = job_postings_data[job_postings_data['description'].notna()]\n",
    "\n",
    "# now drop the max, min salaries with NaN values\n",
    "job_postings_data = job_postings_data[job_postings_data['max_salary'].notna()]\n",
    "# drop the median salary for now-- just since there are so many NaN values\n",
    "job_postings_data = job_postings_data.drop('med_salary', axis=1)\n",
    "\n",
    "job_postings_data = job_postings_data[job_postings_data['formatted_experience_level'].notna()]"
   ]
  },
  {
   "cell_type": "code",
   "execution_count": 12,
   "metadata": {},
   "outputs": [],
   "source": [
    "# create a function for predicting based off of formatted experience level\n",
    "def experience_level_predictions(experience_level):\n",
    "    X = one_hot_data[['min_salary', 'max_salary']]\n",
    "    y = one_hot_data[experience_level]\n",
    "    X_train, X_test, y_train, y_test = train_test_split(X, y, test_size=0.2, random_state=42)\n",
    "    forest_model = RandomForestClassifier()\n",
    "    forest_model.fit(X_train, y_train)\n",
    "\n",
    "    predictions = forest_model.predict(X_test)\n",
    "\n",
    "    # now run a grid search with different parameters\n",
    "    # \n",
    "    param_grid = {\"n_estimators\": [100, 200],\n",
    "                \"max_depth\": [4,5,6,7,8],\n",
    "                \"criterion\": ['gini', 'entropy']}\n",
    "    forest_grid = GridSearchCV(forest_model, param_grid, scoring='f1')\n",
    "    # run the search\n",
    "    forest_grid.fit(X_train, y_train)\n",
    "    print(f\"Best Parameters: {forest_grid.best_params_}\\n\")\n",
    "    print(f\"Best Score: {forest_grid.best_score_}\\n\")\n",
    "\n",
    "    # predict the labels for the test set\n",
    "    forest_grid_predicted = forest_grid.predict(X_test)\n",
    "    # create the confusion matrix\n",
    "    confusion = confusion_matrix(y_test, forest_grid_predicted)\n",
    "    print(f\"Confusion Matrix: \\n{confusion}\")"
   ]
  },
  {
   "cell_type": "code",
   "execution_count": 14,
   "metadata": {},
   "outputs": [
    {
     "name": "stdout",
     "output_type": "stream",
     "text": [
      "Index(['job_id', 'company_id', 'title', 'description', 'max_salary',\n",
      "       'min_salary', 'pay_period', 'formatted_work_type', 'location',\n",
      "       'applies', 'original_listed_time', 'remote_allowed', 'views',\n",
      "       'job_posting_url', 'application_url', 'application_type', 'expiry',\n",
      "       'closed_time', 'skills_desc', 'listed_time', 'posting_domain',\n",
      "       'sponsored', 'work_type', 'currency', 'compensation_type',\n",
      "       'formatted_experience_level_Associate',\n",
      "       'formatted_experience_level_Director',\n",
      "       'formatted_experience_level_Entry level',\n",
      "       'formatted_experience_level_Executive',\n",
      "       'formatted_experience_level_Internship',\n",
      "       'formatted_experience_level_Mid-Senior level'],\n",
      "      dtype='object')\n"
     ]
    }
   ],
   "source": [
    "one_hot_data = pd.get_dummies(job_postings_data, columns=['formatted_experience_level'], dtype=int)\n",
    "print(one_hot_data.columns)\n"
   ]
  },
  {
   "cell_type": "markdown",
   "metadata": {},
   "source": [
    "Associate"
   ]
  },
  {
   "cell_type": "code",
   "execution_count": 15,
   "metadata": {},
   "outputs": [
    {
     "name": "stdout",
     "output_type": "stream",
     "text": [
      "Best Parameters: {'criterion': 'gini', 'max_depth': 8, 'n_estimators': 100}\n",
      "\n",
      "Best Score: 0.0294307577454274\n",
      "\n",
      "Confusion Matrix: \n",
      "[[657   0]\n",
      " [126   0]]\n"
     ]
    }
   ],
   "source": [
    "experience_level_predictions('formatted_experience_level_Associate')"
   ]
  },
  {
   "cell_type": "markdown",
   "metadata": {},
   "source": [
    "Director"
   ]
  },
  {
   "cell_type": "code",
   "execution_count": 16,
   "metadata": {},
   "outputs": [
    {
     "name": "stdout",
     "output_type": "stream",
     "text": [
      "Best Parameters: {'criterion': 'gini', 'max_depth': 8, 'n_estimators': 200}\n",
      "\n",
      "Best Score: 0.16320685434516521\n",
      "\n",
      "Confusion Matrix: \n",
      "[[731   4]\n",
      " [ 42   6]]\n"
     ]
    }
   ],
   "source": [
    "experience_level_predictions('formatted_experience_level_Director')"
   ]
  },
  {
   "cell_type": "markdown",
   "metadata": {},
   "source": [
    "Entry level (just for organization's sake)"
   ]
  },
  {
   "cell_type": "code",
   "execution_count": 17,
   "metadata": {},
   "outputs": [
    {
     "name": "stdout",
     "output_type": "stream",
     "text": [
      "Best Parameters: {'criterion': 'gini', 'max_depth': 8, 'n_estimators': 100}\n",
      "\n",
      "Best Score: 0.5564285457502075\n",
      "\n",
      "Confusion Matrix: \n",
      "[[521  47]\n",
      " [125  90]]\n"
     ]
    }
   ],
   "source": [
    "experience_level_predictions('formatted_experience_level_Entry level')"
   ]
  },
  {
   "cell_type": "markdown",
   "metadata": {},
   "source": [
    "Executive"
   ]
  },
  {
   "cell_type": "code",
   "execution_count": 18,
   "metadata": {},
   "outputs": [
    {
     "name": "stdout",
     "output_type": "stream",
     "text": [
      "Best Parameters: {'criterion': 'gini', 'max_depth': 6, 'n_estimators': 200}\n",
      "\n",
      "Best Score: 0.0808080808080808\n",
      "\n",
      "Confusion Matrix: \n",
      "[[777   0]\n",
      " [  6   0]]\n"
     ]
    }
   ],
   "source": [
    "experience_level_predictions('formatted_experience_level_Executive')"
   ]
  },
  {
   "cell_type": "markdown",
   "metadata": {},
   "source": [
    "Internship"
   ]
  },
  {
   "cell_type": "code",
   "execution_count": 19,
   "metadata": {},
   "outputs": [
    {
     "name": "stdout",
     "output_type": "stream",
     "text": [
      "Best Parameters: {'criterion': 'gini', 'max_depth': 7, 'n_estimators': 200}\n",
      "\n",
      "Best Score: 0.5219047619047619\n",
      "\n",
      "Confusion Matrix: \n",
      "[[776   0]\n",
      " [  6   1]]\n"
     ]
    }
   ],
   "source": [
    "experience_level_predictions('formatted_experience_level_Internship')"
   ]
  },
  {
   "cell_type": "markdown",
   "metadata": {},
   "source": [
    "Mid-Senior Level"
   ]
  },
  {
   "cell_type": "code",
   "execution_count": 20,
   "metadata": {},
   "outputs": [
    {
     "name": "stdout",
     "output_type": "stream",
     "text": [
      "Best Parameters: {'criterion': 'gini', 'max_depth': 8, 'n_estimators': 200}\n",
      "\n",
      "Best Score: 0.7226236581282536\n",
      "\n",
      "Confusion Matrix: \n",
      "[[268 134]\n",
      " [107 274]]\n"
     ]
    }
   ],
   "source": [
    "experience_level_predictions('formatted_experience_level_Mid-Senior level')"
   ]
  },
  {
   "cell_type": "markdown",
   "metadata": {},
   "source": [
    "From this, we can conclude that the data makes it so that the best accuracy is predicting mid-senior level jobs, and also that for every experience level, the gini index was the best criterion for our grid search  "
   ]
  },
  {
   "cell_type": "code",
   "execution_count": null,
   "metadata": {},
   "outputs": [],
   "source": []
  }
 ],
 "metadata": {
  "kernelspec": {
   "display_name": "Python 3",
   "language": "python",
   "name": "python3"
  },
  "language_info": {
   "codemirror_mode": {
    "name": "ipython",
    "version": 3
   },
   "file_extension": ".py",
   "mimetype": "text/x-python",
   "name": "python",
   "nbconvert_exporter": "python",
   "pygments_lexer": "ipython3",
   "version": "3.10.13"
  }
 },
 "nbformat": 4,
 "nbformat_minor": 2
}
